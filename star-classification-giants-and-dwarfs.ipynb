{
 "cells": [
  {
   "cell_type": "markdown",
   "id": "dbb8539c",
   "metadata": {
    "id": "lVdcaFSGL97i",
    "papermill": {
     "duration": 0.010325,
     "end_time": "2022-11-22T14:52:37.983595",
     "exception": false,
     "start_time": "2022-11-22T14:52:37.973270",
     "status": "completed"
    },
    "tags": []
   },
   "source": [
    "# Data Understanding"
   ]
  },
  {
   "cell_type": "code",
   "execution_count": 62,
   "id": "a71bbfa5",
   "metadata": {
    "execution": {
     "iopub.execute_input": "2022-11-22T14:52:38.007192Z",
     "iopub.status.busy": "2022-11-22T14:52:38.006726Z",
     "iopub.status.idle": "2022-11-22T14:52:39.406146Z",
     "shell.execute_reply": "2022-11-22T14:52:39.403586Z"
    },
    "id": "_JazByL1cI1V",
    "papermill": {
     "duration": 1.416196,
     "end_time": "2022-11-22T14:52:39.410556",
     "exception": false,
     "start_time": "2022-11-22T14:52:37.994360",
     "status": "completed"
    },
    "tags": []
   },
   "outputs": [],
   "source": [
    "# Import library-library\n",
    "import matplotlib.pyplot as plt\n",
    "from sklearn.model_selection import train_test_split\n",
    "from sklearn.metrics import classification_report\n",
    "import seaborn as sns\n",
    "import pandas as pd\n",
    "import numpy as np\n",
    "import scipy"
   ]
  },
  {
   "cell_type": "code",
   "execution_count": 63,
   "id": "fbd49827",
   "metadata": {
    "execution": {
     "iopub.execute_input": "2022-11-22T14:52:39.476486Z",
     "iopub.status.busy": "2022-11-22T14:52:39.475813Z",
     "iopub.status.idle": "2022-11-22T14:52:39.527882Z",
     "shell.execute_reply": "2022-11-22T14:52:39.526607Z"
    },
    "id": "MtRhKw7adDYS",
    "outputId": "e109f3e6-b420-4ffe-f071-ee81c8dd1e10",
    "papermill": {
     "duration": 0.069148,
     "end_time": "2022-11-22T14:52:39.530556",
     "exception": false,
     "start_time": "2022-11-22T14:52:39.461408",
     "status": "completed"
    },
    "tags": []
   },
   "outputs": [
    {
     "data": {
      "text/html": [
       "<div>\n",
       "<style scoped>\n",
       "    .dataframe tbody tr th:only-of-type {\n",
       "        vertical-align: middle;\n",
       "    }\n",
       "\n",
       "    .dataframe tbody tr th {\n",
       "        vertical-align: top;\n",
       "    }\n",
       "\n",
       "    .dataframe thead th {\n",
       "        text-align: right;\n",
       "    }\n",
       "</style>\n",
       "<table border=\"1\" class=\"dataframe\">\n",
       "  <thead>\n",
       "    <tr style=\"text-align: right;\">\n",
       "      <th></th>\n",
       "      <th>Vmag</th>\n",
       "      <th>Plx</th>\n",
       "      <th>e_Plx</th>\n",
       "      <th>B-V</th>\n",
       "      <th>SpType</th>\n",
       "      <th>Amag</th>\n",
       "      <th>TargetClass</th>\n",
       "    </tr>\n",
       "  </thead>\n",
       "  <tbody>\n",
       "    <tr>\n",
       "      <th>0</th>\n",
       "      <td>5.99</td>\n",
       "      <td>13.73</td>\n",
       "      <td>0.58</td>\n",
       "      <td>1.318</td>\n",
       "      <td>K5III</td>\n",
       "      <td>16.678352</td>\n",
       "      <td>0</td>\n",
       "    </tr>\n",
       "    <tr>\n",
       "      <th>1</th>\n",
       "      <td>8.70</td>\n",
       "      <td>2.31</td>\n",
       "      <td>1.29</td>\n",
       "      <td>-0.045</td>\n",
       "      <td>B1II</td>\n",
       "      <td>15.518060</td>\n",
       "      <td>0</td>\n",
       "    </tr>\n",
       "    <tr>\n",
       "      <th>2</th>\n",
       "      <td>5.77</td>\n",
       "      <td>5.50</td>\n",
       "      <td>1.03</td>\n",
       "      <td>0.855</td>\n",
       "      <td>G5III</td>\n",
       "      <td>14.471813</td>\n",
       "      <td>0</td>\n",
       "    </tr>\n",
       "    <tr>\n",
       "      <th>3</th>\n",
       "      <td>6.72</td>\n",
       "      <td>5.26</td>\n",
       "      <td>0.74</td>\n",
       "      <td>-0.015</td>\n",
       "      <td>B7V</td>\n",
       "      <td>15.324928</td>\n",
       "      <td>1</td>\n",
       "    </tr>\n",
       "    <tr>\n",
       "      <th>4</th>\n",
       "      <td>8.76</td>\n",
       "      <td>13.44</td>\n",
       "      <td>1.16</td>\n",
       "      <td>0.584</td>\n",
       "      <td>G0V</td>\n",
       "      <td>19.401997</td>\n",
       "      <td>1</td>\n",
       "    </tr>\n",
       "  </tbody>\n",
       "</table>\n",
       "</div>"
      ],
      "text/plain": [
       "   Vmag    Plx  e_Plx    B-V SpType       Amag  TargetClass\n",
       "0  5.99  13.73   0.58  1.318  K5III  16.678352            0\n",
       "1  8.70   2.31   1.29 -0.045   B1II  15.518060            0\n",
       "2  5.77   5.50   1.03  0.855  G5III  14.471813            0\n",
       "3  6.72   5.26   0.74 -0.015    B7V  15.324928            1\n",
       "4  8.76  13.44   1.16  0.584    G0V  19.401997            1"
      ]
     },
     "execution_count": 63,
     "metadata": {},
     "output_type": "execute_result"
    }
   ],
   "source": [
    "dataset = pd.read_csv('D:\\PROJECT\\Star3642_balanced.csv')\n",
    "dataset.head()"
   ]
  },
  {
   "cell_type": "code",
   "execution_count": 64,
   "id": "1f74fdd0",
   "metadata": {
    "execution": {
     "iopub.execute_input": "2022-11-22T14:52:39.578934Z",
     "iopub.status.busy": "2022-11-22T14:52:39.578491Z",
     "iopub.status.idle": "2022-11-22T14:52:39.586858Z",
     "shell.execute_reply": "2022-11-22T14:52:39.585557Z"
    },
    "papermill": {
     "duration": 0.024215,
     "end_time": "2022-11-22T14:52:39.589492",
     "exception": false,
     "start_time": "2022-11-22T14:52:39.565277",
     "status": "completed"
    },
    "tags": []
   },
   "outputs": [
    {
     "data": {
      "text/plain": [
       "(3642, 7)"
      ]
     },
     "execution_count": 64,
     "metadata": {},
     "output_type": "execute_result"
    }
   ],
   "source": [
    "dataset.shape"
   ]
  },
  {
   "cell_type": "code",
   "execution_count": 65,
   "id": "9f4e2933",
   "metadata": {
    "execution": {
     "iopub.execute_input": "2022-11-22T14:52:39.636719Z",
     "iopub.status.busy": "2022-11-22T14:52:39.636224Z",
     "iopub.status.idle": "2022-11-22T14:52:39.668450Z",
     "shell.execute_reply": "2022-11-22T14:52:39.667089Z"
    },
    "papermill": {
     "duration": 0.048351,
     "end_time": "2022-11-22T14:52:39.672016",
     "exception": false,
     "start_time": "2022-11-22T14:52:39.623665",
     "status": "completed"
    },
    "tags": []
   },
   "outputs": [
    {
     "name": "stdout",
     "output_type": "stream",
     "text": [
      "<class 'pandas.core.frame.DataFrame'>\n",
      "RangeIndex: 3642 entries, 0 to 3641\n",
      "Data columns (total 7 columns):\n",
      " #   Column       Non-Null Count  Dtype  \n",
      "---  ------       --------------  -----  \n",
      " 0   Vmag         3642 non-null   float64\n",
      " 1   Plx          3642 non-null   float64\n",
      " 2   e_Plx        3642 non-null   float64\n",
      " 3   B-V          3642 non-null   float64\n",
      " 4   SpType       3642 non-null   object \n",
      " 5   Amag         3642 non-null   float64\n",
      " 6   TargetClass  3642 non-null   int64  \n",
      "dtypes: float64(5), int64(1), object(1)\n",
      "memory usage: 199.3+ KB\n"
     ]
    }
   ],
   "source": [
    "dataset.info()"
   ]
  },
  {
   "cell_type": "code",
   "execution_count": 66,
   "id": "c5c7cd7a",
   "metadata": {},
   "outputs": [
    {
     "name": "stdout",
     "output_type": "stream",
     "text": [
      "<class 'pandas.core.frame.DataFrame'>\n",
      "RangeIndex: 3642 entries, 0 to 3641\n",
      "Data columns (total 7 columns):\n",
      " #   Column       Non-Null Count  Dtype  \n",
      "---  ------       --------------  -----  \n",
      " 0   Vmag         3642 non-null   float64\n",
      " 1   Plx          3642 non-null   float64\n",
      " 2   e_Plx        3642 non-null   float64\n",
      " 3   B-V          3642 non-null   float64\n",
      " 4   SpType       3642 non-null   object \n",
      " 5   Amag         3642 non-null   float64\n",
      " 6   TargetClass  3642 non-null   int64  \n",
      "dtypes: float64(5), int64(1), object(1)\n",
      "memory usage: 199.3+ KB\n"
     ]
    }
   ],
   "source": [
    "dataset.info()"
   ]
  },
  {
   "cell_type": "code",
   "execution_count": 67,
   "id": "3d75dfa5",
   "metadata": {
    "execution": {
     "iopub.execute_input": "2022-11-22T14:52:39.720066Z",
     "iopub.status.busy": "2022-11-22T14:52:39.719644Z",
     "iopub.status.idle": "2022-11-22T14:52:39.760616Z",
     "shell.execute_reply": "2022-11-22T14:52:39.759377Z"
    },
    "id": "DjCkhhStK5iX",
    "outputId": "68457299-0528-4c8a-cbae-8f1bd4973f9e",
    "papermill": {
     "duration": 0.056447,
     "end_time": "2022-11-22T14:52:39.763246",
     "exception": false,
     "start_time": "2022-11-22T14:52:39.706799",
     "status": "completed"
    },
    "tags": []
   },
   "outputs": [
    {
     "data": {
      "text/html": [
       "<div>\n",
       "<style scoped>\n",
       "    .dataframe tbody tr th:only-of-type {\n",
       "        vertical-align: middle;\n",
       "    }\n",
       "\n",
       "    .dataframe tbody tr th {\n",
       "        vertical-align: top;\n",
       "    }\n",
       "\n",
       "    .dataframe thead th {\n",
       "        text-align: right;\n",
       "    }\n",
       "</style>\n",
       "<table border=\"1\" class=\"dataframe\">\n",
       "  <thead>\n",
       "    <tr style=\"text-align: right;\">\n",
       "      <th></th>\n",
       "      <th>Vmag</th>\n",
       "      <th>Plx</th>\n",
       "      <th>e_Plx</th>\n",
       "      <th>B-V</th>\n",
       "      <th>Amag</th>\n",
       "      <th>TargetClass</th>\n",
       "    </tr>\n",
       "  </thead>\n",
       "  <tbody>\n",
       "    <tr>\n",
       "      <th>count</th>\n",
       "      <td>3642.000000</td>\n",
       "      <td>3642.000000</td>\n",
       "      <td>3642.000000</td>\n",
       "      <td>3642.000000</td>\n",
       "      <td>3642.000000</td>\n",
       "      <td>3642.000000</td>\n",
       "    </tr>\n",
       "    <tr>\n",
       "      <th>mean</th>\n",
       "      <td>8.120530</td>\n",
       "      <td>7.606153</td>\n",
       "      <td>1.176568</td>\n",
       "      <td>0.827077</td>\n",
       "      <td>16.427388</td>\n",
       "      <td>0.500000</td>\n",
       "    </tr>\n",
       "    <tr>\n",
       "      <th>std</th>\n",
       "      <td>1.338875</td>\n",
       "      <td>11.924052</td>\n",
       "      <td>0.919999</td>\n",
       "      <td>0.436699</td>\n",
       "      <td>2.428144</td>\n",
       "      <td>0.500069</td>\n",
       "    </tr>\n",
       "    <tr>\n",
       "      <th>min</th>\n",
       "      <td>0.450000</td>\n",
       "      <td>-6.820000</td>\n",
       "      <td>0.470000</td>\n",
       "      <td>-0.196000</td>\n",
       "      <td>2.820000</td>\n",
       "      <td>0.000000</td>\n",
       "    </tr>\n",
       "    <tr>\n",
       "      <th>25%</th>\n",
       "      <td>7.370000</td>\n",
       "      <td>2.740000</td>\n",
       "      <td>0.840000</td>\n",
       "      <td>0.487250</td>\n",
       "      <td>15.150312</td>\n",
       "      <td>0.000000</td>\n",
       "    </tr>\n",
       "    <tr>\n",
       "      <th>50%</th>\n",
       "      <td>8.390000</td>\n",
       "      <td>4.950000</td>\n",
       "      <td>1.040000</td>\n",
       "      <td>0.867000</td>\n",
       "      <td>16.392485</td>\n",
       "      <td>0.500000</td>\n",
       "    </tr>\n",
       "    <tr>\n",
       "      <th>75%</th>\n",
       "      <td>9.060000</td>\n",
       "      <td>8.670000</td>\n",
       "      <td>1.270000</td>\n",
       "      <td>1.136000</td>\n",
       "      <td>18.029836</td>\n",
       "      <td>1.000000</td>\n",
       "    </tr>\n",
       "    <tr>\n",
       "      <th>max</th>\n",
       "      <td>12.490000</td>\n",
       "      <td>280.270000</td>\n",
       "      <td>30.290000</td>\n",
       "      <td>2.530000</td>\n",
       "      <td>29.249165</td>\n",
       "      <td>1.000000</td>\n",
       "    </tr>\n",
       "  </tbody>\n",
       "</table>\n",
       "</div>"
      ],
      "text/plain": [
       "              Vmag          Plx        e_Plx          B-V         Amag  \\\n",
       "count  3642.000000  3642.000000  3642.000000  3642.000000  3642.000000   \n",
       "mean      8.120530     7.606153     1.176568     0.827077    16.427388   \n",
       "std       1.338875    11.924052     0.919999     0.436699     2.428144   \n",
       "min       0.450000    -6.820000     0.470000    -0.196000     2.820000   \n",
       "25%       7.370000     2.740000     0.840000     0.487250    15.150312   \n",
       "50%       8.390000     4.950000     1.040000     0.867000    16.392485   \n",
       "75%       9.060000     8.670000     1.270000     1.136000    18.029836   \n",
       "max      12.490000   280.270000    30.290000     2.530000    29.249165   \n",
       "\n",
       "       TargetClass  \n",
       "count  3642.000000  \n",
       "mean      0.500000  \n",
       "std       0.500069  \n",
       "min       0.000000  \n",
       "25%       0.000000  \n",
       "50%       0.500000  \n",
       "75%       1.000000  \n",
       "max       1.000000  "
      ]
     },
     "execution_count": 67,
     "metadata": {},
     "output_type": "execute_result"
    }
   ],
   "source": [
    "dataset.describe()"
   ]
  },
  {
   "cell_type": "code",
   "execution_count": 68,
   "id": "1ae97e25",
   "metadata": {
    "execution": {
     "iopub.execute_input": "2022-11-22T14:52:39.813186Z",
     "iopub.status.busy": "2022-11-22T14:52:39.812738Z",
     "iopub.status.idle": "2022-11-22T14:52:39.823224Z",
     "shell.execute_reply": "2022-11-22T14:52:39.821895Z"
    },
    "papermill": {
     "duration": 0.026532,
     "end_time": "2022-11-22T14:52:39.825857",
     "exception": false,
     "start_time": "2022-11-22T14:52:39.799325",
     "status": "completed"
    },
    "tags": []
   },
   "outputs": [
    {
     "data": {
      "text/plain": [
       "Vmag           0\n",
       "Plx            0\n",
       "e_Plx          0\n",
       "B-V            0\n",
       "SpType         0\n",
       "Amag           0\n",
       "TargetClass    0\n",
       "dtype: int64"
      ]
     },
     "execution_count": 68,
     "metadata": {},
     "output_type": "execute_result"
    }
   ],
   "source": [
    "dataset.isnull().sum()"
   ]
  },
  {
   "cell_type": "markdown",
   "id": "63acecb9",
   "metadata": {
    "id": "5WcXwF3slwM9",
    "papermill": {
     "duration": 0.012496,
     "end_time": "2022-11-22T14:52:39.850128",
     "exception": false,
     "start_time": "2022-11-22T14:52:39.837632",
     "status": "completed"
    },
    "tags": []
   },
   "source": [
    "# Data Preparation\n",
    "## Encode data value from object to numerical"
   ]
  },
  {
   "cell_type": "code",
   "execution_count": 69,
   "id": "6399529f",
   "metadata": {
    "execution": {
     "iopub.execute_input": "2022-11-22T14:52:39.901891Z",
     "iopub.status.busy": "2022-11-22T14:52:39.901435Z",
     "iopub.status.idle": "2022-11-22T14:52:39.923388Z",
     "shell.execute_reply": "2022-11-22T14:52:39.921959Z"
    },
    "id": "KYHeQnvgf7Fj",
    "outputId": "08aefda9-f0e9-4e2e-9e54-95020fab6546",
    "papermill": {
     "duration": 0.039998,
     "end_time": "2022-11-22T14:52:39.926324",
     "exception": false,
     "start_time": "2022-11-22T14:52:39.886326",
     "status": "completed"
    },
    "tags": []
   },
   "outputs": [
    {
     "data": {
      "text/html": [
       "<div>\n",
       "<style scoped>\n",
       "    .dataframe tbody tr th:only-of-type {\n",
       "        vertical-align: middle;\n",
       "    }\n",
       "\n",
       "    .dataframe tbody tr th {\n",
       "        vertical-align: top;\n",
       "    }\n",
       "\n",
       "    .dataframe thead th {\n",
       "        text-align: right;\n",
       "    }\n",
       "</style>\n",
       "<table border=\"1\" class=\"dataframe\">\n",
       "  <thead>\n",
       "    <tr style=\"text-align: right;\">\n",
       "      <th></th>\n",
       "      <th>Vmag</th>\n",
       "      <th>Plx</th>\n",
       "      <th>e_Plx</th>\n",
       "      <th>B-V</th>\n",
       "      <th>SpType</th>\n",
       "      <th>Amag</th>\n",
       "      <th>TargetClass</th>\n",
       "    </tr>\n",
       "  </thead>\n",
       "  <tbody>\n",
       "    <tr>\n",
       "      <th>0</th>\n",
       "      <td>5.99</td>\n",
       "      <td>13.73</td>\n",
       "      <td>0.58</td>\n",
       "      <td>1.318</td>\n",
       "      <td>522</td>\n",
       "      <td>16.678352</td>\n",
       "      <td>0</td>\n",
       "    </tr>\n",
       "    <tr>\n",
       "      <th>1</th>\n",
       "      <td>8.70</td>\n",
       "      <td>2.31</td>\n",
       "      <td>1.29</td>\n",
       "      <td>-0.045</td>\n",
       "      <td>99</td>\n",
       "      <td>15.518060</td>\n",
       "      <td>0</td>\n",
       "    </tr>\n",
       "    <tr>\n",
       "      <th>2</th>\n",
       "      <td>5.77</td>\n",
       "      <td>5.50</td>\n",
       "      <td>1.03</td>\n",
       "      <td>0.855</td>\n",
       "      <td>337</td>\n",
       "      <td>14.471813</td>\n",
       "      <td>0</td>\n",
       "    </tr>\n",
       "    <tr>\n",
       "      <th>3</th>\n",
       "      <td>6.72</td>\n",
       "      <td>5.26</td>\n",
       "      <td>0.74</td>\n",
       "      <td>-0.015</td>\n",
       "      <td>150</td>\n",
       "      <td>15.324928</td>\n",
       "      <td>1</td>\n",
       "    </tr>\n",
       "    <tr>\n",
       "      <th>4</th>\n",
       "      <td>8.76</td>\n",
       "      <td>13.44</td>\n",
       "      <td>1.16</td>\n",
       "      <td>0.584</td>\n",
       "      <td>293</td>\n",
       "      <td>19.401997</td>\n",
       "      <td>1</td>\n",
       "    </tr>\n",
       "  </tbody>\n",
       "</table>\n",
       "</div>"
      ],
      "text/plain": [
       "   Vmag    Plx  e_Plx    B-V  SpType       Amag  TargetClass\n",
       "0  5.99  13.73   0.58  1.318     522  16.678352            0\n",
       "1  8.70   2.31   1.29 -0.045      99  15.518060            0\n",
       "2  5.77   5.50   1.03  0.855     337  14.471813            0\n",
       "3  6.72   5.26   0.74 -0.015     150  15.324928            1\n",
       "4  8.76  13.44   1.16  0.584     293  19.401997            1"
      ]
     },
     "execution_count": 69,
     "metadata": {},
     "output_type": "execute_result"
    }
   ],
   "source": [
    "from sklearn.preprocessing import LabelEncoder\n",
    "\n",
    "encoder = LabelEncoder() \n",
    "\n",
    "for c in dataset.columns[0:]:  \n",
    "    if(dataset[c].dtype=='object'): \n",
    "        dataset[c] = encoder.fit_transform(dataset[c])\n",
    "    else: \n",
    "        dataset[c] = dataset[c]\n",
    "\n",
    "dataset.head() "
   ]
  },
  {
   "cell_type": "markdown",
   "id": "a10c9ccb",
   "metadata": {
    "id": "0FUWCaMemHxW",
    "papermill": {
     "duration": 0.011508,
     "end_time": "2022-11-22T14:52:39.949976",
     "exception": false,
     "start_time": "2022-11-22T14:52:39.938468",
     "status": "completed"
    },
    "tags": []
   },
   "source": [
    "## Splitting Data"
   ]
  },
  {
   "cell_type": "code",
   "execution_count": 70,
   "id": "ab102fde",
   "metadata": {
    "execution": {
     "iopub.execute_input": "2022-11-22T14:52:39.998890Z",
     "iopub.status.busy": "2022-11-22T14:52:39.998449Z",
     "iopub.status.idle": "2022-11-22T14:52:40.008032Z",
     "shell.execute_reply": "2022-11-22T14:52:40.006965Z"
    },
    "id": "SImzhiG3dwwf",
    "papermill": {
     "duration": 0.025601,
     "end_time": "2022-11-22T14:52:40.010707",
     "exception": false,
     "start_time": "2022-11-22T14:52:39.985106",
     "status": "completed"
    },
    "tags": []
   },
   "outputs": [],
   "source": [
    "from sklearn.model_selection import train_test_split\n",
    "\n",
    "y = dataset['TargetClass']\n",
    "x = dataset.drop(['TargetClass', 'Vmag', 'Plx', 'Amag', 'e_Plx'], axis = 1)\n",
    "\n",
    "# Split the dataset to train and test data\n",
    "train_x, test_x, train_y, test_y = train_test_split(x, y, train_size=0.8, random_state=0)"
   ]
  },
  {
   "cell_type": "markdown",
   "id": "b057cffd",
   "metadata": {
    "id": "WUk4mScll_Ao",
    "papermill": {
     "duration": 0.011732,
     "end_time": "2022-11-22T14:52:40.034321",
     "exception": false,
     "start_time": "2022-11-22T14:52:40.022589",
     "status": "completed"
    },
    "tags": []
   },
   "source": [
    "## Normalization Data"
   ]
  },
  {
   "cell_type": "code",
   "execution_count": 71,
   "id": "2eac0141",
   "metadata": {
    "execution": {
     "iopub.execute_input": "2022-11-22T14:52:40.085363Z",
     "iopub.status.busy": "2022-11-22T14:52:40.084936Z",
     "iopub.status.idle": "2022-11-22T14:52:40.098218Z",
     "shell.execute_reply": "2022-11-22T14:52:40.097065Z"
    },
    "id": "YvqSpkrFjcVR",
    "papermill": {
     "duration": 0.030448,
     "end_time": "2022-11-22T14:52:40.101111",
     "exception": false,
     "start_time": "2022-11-22T14:52:40.070663",
     "status": "completed"
    },
    "tags": []
   },
   "outputs": [],
   "source": [
    "from sklearn.preprocessing import StandardScaler\n",
    "\n",
    "scaler = StandardScaler()\n",
    "train_x = scaler.fit_transform(train_x)\n",
    "test_x = scaler.transform(test_x)"
   ]
  },
  {
   "cell_type": "markdown",
   "id": "0dbee0b7",
   "metadata": {
    "id": "GhchdNYNmMGG",
    "papermill": {
     "duration": 0.012275,
     "end_time": "2022-11-22T14:52:40.125271",
     "exception": false,
     "start_time": "2022-11-22T14:52:40.112996",
     "status": "completed"
    },
    "tags": []
   },
   "source": [
    "# Modelling"
   ]
  },
  {
   "cell_type": "markdown",
   "id": "9f2c1a73",
   "metadata": {
    "papermill": {
     "duration": 0.011721,
     "end_time": "2022-11-22T14:52:40.149197",
     "exception": false,
     "start_time": "2022-11-22T14:52:40.137476",
     "status": "completed"
    },
    "tags": []
   },
   "source": [
    "### 1. K-Nearest Neighbors"
   ]
  },
  {
   "cell_type": "code",
   "execution_count": 72,
   "id": "04e11606",
   "metadata": {
    "execution": {
     "iopub.execute_input": "2022-11-22T14:52:40.198868Z",
     "iopub.status.busy": "2022-11-22T14:52:40.198446Z",
     "iopub.status.idle": "2022-11-22T14:52:40.353600Z",
     "shell.execute_reply": "2022-11-22T14:52:40.351954Z"
    },
    "id": "71--YdSjnPgs",
    "papermill": {
     "duration": 0.172141,
     "end_time": "2022-11-22T14:52:40.356480",
     "exception": false,
     "start_time": "2022-11-22T14:52:40.184339",
     "status": "completed"
    },
    "tags": []
   },
   "outputs": [],
   "source": [
    "from sklearn.neighbors import KNeighborsClassifier\n",
    "\n",
    "parameters = {\n",
    "    \"algorithm\" : \"auto\",\n",
    "    \"leaf_size\" : 30,\n",
    "    \"metric\" : \"euclidean\",\n",
    "    \"metric_params\" : None,\n",
    "    \"n_jobs\" : 1,\n",
    "    \"n_neighbors\" : 6,\n",
    "    \"p\": 2,\n",
    "    \"weights\" : \"uniform\"\n",
    "}\n",
    "\n",
    "KNN = KNeighborsClassifier(**parameters)"
   ]
  },
  {
   "cell_type": "code",
   "execution_count": 73,
   "id": "b136a030",
   "metadata": {
    "execution": {
     "iopub.execute_input": "2022-11-22T14:52:40.383356Z",
     "iopub.status.busy": "2022-11-22T14:52:40.382894Z",
     "iopub.status.idle": "2022-11-22T14:52:40.395308Z",
     "shell.execute_reply": "2022-11-22T14:52:40.394112Z"
    },
    "id": "txWRUNW4nSix",
    "outputId": "32d4e0c1-04e6-4047-b3c5-7ccbd4d7969f",
    "papermill": {
     "duration": 0.029149,
     "end_time": "2022-11-22T14:52:40.397933",
     "exception": false,
     "start_time": "2022-11-22T14:52:40.368784",
     "status": "completed"
    },
    "tags": []
   },
   "outputs": [
    {
     "data": {
      "text/html": [
       "<style>#sk-container-id-5 {color: black;background-color: white;}#sk-container-id-5 pre{padding: 0;}#sk-container-id-5 div.sk-toggleable {background-color: white;}#sk-container-id-5 label.sk-toggleable__label {cursor: pointer;display: block;width: 100%;margin-bottom: 0;padding: 0.3em;box-sizing: border-box;text-align: center;}#sk-container-id-5 label.sk-toggleable__label-arrow:before {content: \"▸\";float: left;margin-right: 0.25em;color: #696969;}#sk-container-id-5 label.sk-toggleable__label-arrow:hover:before {color: black;}#sk-container-id-5 div.sk-estimator:hover label.sk-toggleable__label-arrow:before {color: black;}#sk-container-id-5 div.sk-toggleable__content {max-height: 0;max-width: 0;overflow: hidden;text-align: left;background-color: #f0f8ff;}#sk-container-id-5 div.sk-toggleable__content pre {margin: 0.2em;color: black;border-radius: 0.25em;background-color: #f0f8ff;}#sk-container-id-5 input.sk-toggleable__control:checked~div.sk-toggleable__content {max-height: 200px;max-width: 100%;overflow: auto;}#sk-container-id-5 input.sk-toggleable__control:checked~label.sk-toggleable__label-arrow:before {content: \"▾\";}#sk-container-id-5 div.sk-estimator input.sk-toggleable__control:checked~label.sk-toggleable__label {background-color: #d4ebff;}#sk-container-id-5 div.sk-label input.sk-toggleable__control:checked~label.sk-toggleable__label {background-color: #d4ebff;}#sk-container-id-5 input.sk-hidden--visually {border: 0;clip: rect(1px 1px 1px 1px);clip: rect(1px, 1px, 1px, 1px);height: 1px;margin: -1px;overflow: hidden;padding: 0;position: absolute;width: 1px;}#sk-container-id-5 div.sk-estimator {font-family: monospace;background-color: #f0f8ff;border: 1px dotted black;border-radius: 0.25em;box-sizing: border-box;margin-bottom: 0.5em;}#sk-container-id-5 div.sk-estimator:hover {background-color: #d4ebff;}#sk-container-id-5 div.sk-parallel-item::after {content: \"\";width: 100%;border-bottom: 1px solid gray;flex-grow: 1;}#sk-container-id-5 div.sk-label:hover label.sk-toggleable__label {background-color: #d4ebff;}#sk-container-id-5 div.sk-serial::before {content: \"\";position: absolute;border-left: 1px solid gray;box-sizing: border-box;top: 0;bottom: 0;left: 50%;z-index: 0;}#sk-container-id-5 div.sk-serial {display: flex;flex-direction: column;align-items: center;background-color: white;padding-right: 0.2em;padding-left: 0.2em;position: relative;}#sk-container-id-5 div.sk-item {position: relative;z-index: 1;}#sk-container-id-5 div.sk-parallel {display: flex;align-items: stretch;justify-content: center;background-color: white;position: relative;}#sk-container-id-5 div.sk-item::before, #sk-container-id-5 div.sk-parallel-item::before {content: \"\";position: absolute;border-left: 1px solid gray;box-sizing: border-box;top: 0;bottom: 0;left: 50%;z-index: -1;}#sk-container-id-5 div.sk-parallel-item {display: flex;flex-direction: column;z-index: 1;position: relative;background-color: white;}#sk-container-id-5 div.sk-parallel-item:first-child::after {align-self: flex-end;width: 50%;}#sk-container-id-5 div.sk-parallel-item:last-child::after {align-self: flex-start;width: 50%;}#sk-container-id-5 div.sk-parallel-item:only-child::after {width: 0;}#sk-container-id-5 div.sk-dashed-wrapped {border: 1px dashed gray;margin: 0 0.4em 0.5em 0.4em;box-sizing: border-box;padding-bottom: 0.4em;background-color: white;}#sk-container-id-5 div.sk-label label {font-family: monospace;font-weight: bold;display: inline-block;line-height: 1.2em;}#sk-container-id-5 div.sk-label-container {text-align: center;}#sk-container-id-5 div.sk-container {/* jupyter's `normalize.less` sets `[hidden] { display: none; }` but bootstrap.min.css set `[hidden] { display: none !important; }` so we also need the `!important` here to be able to override the default hidden behavior on the sphinx rendered scikit-learn.org. See: https://github.com/scikit-learn/scikit-learn/issues/21755 */display: inline-block !important;position: relative;}#sk-container-id-5 div.sk-text-repr-fallback {display: none;}</style><div id=\"sk-container-id-5\" class=\"sk-top-container\"><div class=\"sk-text-repr-fallback\"><pre>KNeighborsClassifier(metric=&#x27;euclidean&#x27;, n_jobs=1, n_neighbors=6)</pre><b>In a Jupyter environment, please rerun this cell to show the HTML representation or trust the notebook. <br />On GitHub, the HTML representation is unable to render, please try loading this page with nbviewer.org.</b></div><div class=\"sk-container\" hidden><div class=\"sk-item\"><div class=\"sk-estimator sk-toggleable\"><input class=\"sk-toggleable__control sk-hidden--visually\" id=\"sk-estimator-id-5\" type=\"checkbox\" checked><label for=\"sk-estimator-id-5\" class=\"sk-toggleable__label sk-toggleable__label-arrow\">KNeighborsClassifier</label><div class=\"sk-toggleable__content\"><pre>KNeighborsClassifier(metric=&#x27;euclidean&#x27;, n_jobs=1, n_neighbors=6)</pre></div></div></div></div></div>"
      ],
      "text/plain": [
       "KNeighborsClassifier(metric='euclidean', n_jobs=1, n_neighbors=6)"
      ]
     },
     "execution_count": 73,
     "metadata": {},
     "output_type": "execute_result"
    }
   ],
   "source": [
    "KNN.fit(train_x, train_y)"
   ]
  },
  {
   "cell_type": "code",
   "execution_count": 74,
   "id": "cb212de6",
   "metadata": {
    "execution": {
     "iopub.execute_input": "2022-11-22T14:52:40.424855Z",
     "iopub.status.busy": "2022-11-22T14:52:40.424427Z",
     "iopub.status.idle": "2022-11-22T14:52:40.451044Z",
     "shell.execute_reply": "2022-11-22T14:52:40.449731Z"
    },
    "id": "t332QtfGn7hp",
    "papermill": {
     "duration": 0.043828,
     "end_time": "2022-11-22T14:52:40.454732",
     "exception": false,
     "start_time": "2022-11-22T14:52:40.410904",
     "status": "completed"
    },
    "tags": []
   },
   "outputs": [],
   "source": [
    "KNN_Predictions = KNN.predict(test_x)"
   ]
  },
  {
   "cell_type": "markdown",
   "id": "986c447e",
   "metadata": {
    "papermill": {
     "duration": 0.011677,
     "end_time": "2022-11-22T14:52:40.478520",
     "exception": false,
     "start_time": "2022-11-22T14:52:40.466843",
     "status": "completed"
    },
    "tags": []
   },
   "source": [
    "### 2. Random Forest"
   ]
  },
  {
   "cell_type": "code",
   "execution_count": 75,
   "id": "176864ec",
   "metadata": {
    "execution": {
     "iopub.execute_input": "2022-11-22T14:52:40.529254Z",
     "iopub.status.busy": "2022-11-22T14:52:40.528128Z",
     "iopub.status.idle": "2022-11-22T14:52:40.633090Z",
     "shell.execute_reply": "2022-11-22T14:52:40.631791Z"
    },
    "papermill": {
     "duration": 0.121317,
     "end_time": "2022-11-22T14:52:40.636059",
     "exception": false,
     "start_time": "2022-11-22T14:52:40.514742",
     "status": "completed"
    },
    "tags": []
   },
   "outputs": [],
   "source": [
    "from sklearn.ensemble import RandomForestClassifier\n",
    "\n",
    "parameters = {'bootstrap': True,\n",
    "              'min_samples_leaf': 3,\n",
    "              'n_estimators': 50, \n",
    "              'min_samples_split': 10,\n",
    "              'max_features': 'sqrt',\n",
    "              'max_depth': 6,\n",
    "              'max_leaf_nodes': None}\n",
    "\n",
    "RF_model = RandomForestClassifier(**parameters)"
   ]
  },
  {
   "cell_type": "code",
   "execution_count": 76,
   "id": "6eccb8ee",
   "metadata": {
    "execution": {
     "iopub.execute_input": "2022-11-22T14:52:40.663765Z",
     "iopub.status.busy": "2022-11-22T14:52:40.662493Z",
     "iopub.status.idle": "2022-11-22T14:52:40.815583Z",
     "shell.execute_reply": "2022-11-22T14:52:40.814073Z"
    },
    "papermill": {
     "duration": 0.169756,
     "end_time": "2022-11-22T14:52:40.818505",
     "exception": false,
     "start_time": "2022-11-22T14:52:40.648749",
     "status": "completed"
    },
    "tags": []
   },
   "outputs": [
    {
     "data": {
      "text/html": [
       "<style>#sk-container-id-6 {color: black;background-color: white;}#sk-container-id-6 pre{padding: 0;}#sk-container-id-6 div.sk-toggleable {background-color: white;}#sk-container-id-6 label.sk-toggleable__label {cursor: pointer;display: block;width: 100%;margin-bottom: 0;padding: 0.3em;box-sizing: border-box;text-align: center;}#sk-container-id-6 label.sk-toggleable__label-arrow:before {content: \"▸\";float: left;margin-right: 0.25em;color: #696969;}#sk-container-id-6 label.sk-toggleable__label-arrow:hover:before {color: black;}#sk-container-id-6 div.sk-estimator:hover label.sk-toggleable__label-arrow:before {color: black;}#sk-container-id-6 div.sk-toggleable__content {max-height: 0;max-width: 0;overflow: hidden;text-align: left;background-color: #f0f8ff;}#sk-container-id-6 div.sk-toggleable__content pre {margin: 0.2em;color: black;border-radius: 0.25em;background-color: #f0f8ff;}#sk-container-id-6 input.sk-toggleable__control:checked~div.sk-toggleable__content {max-height: 200px;max-width: 100%;overflow: auto;}#sk-container-id-6 input.sk-toggleable__control:checked~label.sk-toggleable__label-arrow:before {content: \"▾\";}#sk-container-id-6 div.sk-estimator input.sk-toggleable__control:checked~label.sk-toggleable__label {background-color: #d4ebff;}#sk-container-id-6 div.sk-label input.sk-toggleable__control:checked~label.sk-toggleable__label {background-color: #d4ebff;}#sk-container-id-6 input.sk-hidden--visually {border: 0;clip: rect(1px 1px 1px 1px);clip: rect(1px, 1px, 1px, 1px);height: 1px;margin: -1px;overflow: hidden;padding: 0;position: absolute;width: 1px;}#sk-container-id-6 div.sk-estimator {font-family: monospace;background-color: #f0f8ff;border: 1px dotted black;border-radius: 0.25em;box-sizing: border-box;margin-bottom: 0.5em;}#sk-container-id-6 div.sk-estimator:hover {background-color: #d4ebff;}#sk-container-id-6 div.sk-parallel-item::after {content: \"\";width: 100%;border-bottom: 1px solid gray;flex-grow: 1;}#sk-container-id-6 div.sk-label:hover label.sk-toggleable__label {background-color: #d4ebff;}#sk-container-id-6 div.sk-serial::before {content: \"\";position: absolute;border-left: 1px solid gray;box-sizing: border-box;top: 0;bottom: 0;left: 50%;z-index: 0;}#sk-container-id-6 div.sk-serial {display: flex;flex-direction: column;align-items: center;background-color: white;padding-right: 0.2em;padding-left: 0.2em;position: relative;}#sk-container-id-6 div.sk-item {position: relative;z-index: 1;}#sk-container-id-6 div.sk-parallel {display: flex;align-items: stretch;justify-content: center;background-color: white;position: relative;}#sk-container-id-6 div.sk-item::before, #sk-container-id-6 div.sk-parallel-item::before {content: \"\";position: absolute;border-left: 1px solid gray;box-sizing: border-box;top: 0;bottom: 0;left: 50%;z-index: -1;}#sk-container-id-6 div.sk-parallel-item {display: flex;flex-direction: column;z-index: 1;position: relative;background-color: white;}#sk-container-id-6 div.sk-parallel-item:first-child::after {align-self: flex-end;width: 50%;}#sk-container-id-6 div.sk-parallel-item:last-child::after {align-self: flex-start;width: 50%;}#sk-container-id-6 div.sk-parallel-item:only-child::after {width: 0;}#sk-container-id-6 div.sk-dashed-wrapped {border: 1px dashed gray;margin: 0 0.4em 0.5em 0.4em;box-sizing: border-box;padding-bottom: 0.4em;background-color: white;}#sk-container-id-6 div.sk-label label {font-family: monospace;font-weight: bold;display: inline-block;line-height: 1.2em;}#sk-container-id-6 div.sk-label-container {text-align: center;}#sk-container-id-6 div.sk-container {/* jupyter's `normalize.less` sets `[hidden] { display: none; }` but bootstrap.min.css set `[hidden] { display: none !important; }` so we also need the `!important` here to be able to override the default hidden behavior on the sphinx rendered scikit-learn.org. See: https://github.com/scikit-learn/scikit-learn/issues/21755 */display: inline-block !important;position: relative;}#sk-container-id-6 div.sk-text-repr-fallback {display: none;}</style><div id=\"sk-container-id-6\" class=\"sk-top-container\"><div class=\"sk-text-repr-fallback\"><pre>RandomForestClassifier(max_depth=6, min_samples_leaf=3, min_samples_split=10,\n",
       "                       n_estimators=50)</pre><b>In a Jupyter environment, please rerun this cell to show the HTML representation or trust the notebook. <br />On GitHub, the HTML representation is unable to render, please try loading this page with nbviewer.org.</b></div><div class=\"sk-container\" hidden><div class=\"sk-item\"><div class=\"sk-estimator sk-toggleable\"><input class=\"sk-toggleable__control sk-hidden--visually\" id=\"sk-estimator-id-6\" type=\"checkbox\" checked><label for=\"sk-estimator-id-6\" class=\"sk-toggleable__label sk-toggleable__label-arrow\">RandomForestClassifier</label><div class=\"sk-toggleable__content\"><pre>RandomForestClassifier(max_depth=6, min_samples_leaf=3, min_samples_split=10,\n",
       "                       n_estimators=50)</pre></div></div></div></div></div>"
      ],
      "text/plain": [
       "RandomForestClassifier(max_depth=6, min_samples_leaf=3, min_samples_split=10,\n",
       "                       n_estimators=50)"
      ]
     },
     "execution_count": 76,
     "metadata": {},
     "output_type": "execute_result"
    }
   ],
   "source": [
    "RF_model.fit(train_x, train_y)"
   ]
  },
  {
   "cell_type": "code",
   "execution_count": 77,
   "id": "beaacb06",
   "metadata": {
    "execution": {
     "iopub.execute_input": "2022-11-22T14:52:40.844436Z",
     "iopub.status.busy": "2022-11-22T14:52:40.843987Z",
     "iopub.status.idle": "2022-11-22T14:52:40.862028Z",
     "shell.execute_reply": "2022-11-22T14:52:40.861012Z"
    },
    "papermill": {
     "duration": 0.033914,
     "end_time": "2022-11-22T14:52:40.864668",
     "exception": false,
     "start_time": "2022-11-22T14:52:40.830754",
     "status": "completed"
    },
    "tags": []
   },
   "outputs": [],
   "source": [
    "RF_predictions = RF_model.predict(test_x)"
   ]
  },
  {
   "cell_type": "markdown",
   "id": "4b4fbbef",
   "metadata": {
    "papermill": {
     "duration": 0.011498,
     "end_time": "2022-11-22T14:52:40.887937",
     "exception": false,
     "start_time": "2022-11-22T14:52:40.876439",
     "status": "completed"
    },
    "tags": []
   },
   "source": [
    "# Evaluation"
   ]
  },
  {
   "cell_type": "markdown",
   "id": "28cfdaff",
   "metadata": {
    "papermill": {
     "duration": 0.011534,
     "end_time": "2022-11-22T14:52:40.934672",
     "exception": false,
     "start_time": "2022-11-22T14:52:40.923138",
     "status": "completed"
    },
    "tags": []
   },
   "source": [
    "### 1. K-Nearest Neightbor"
   ]
  },
  {
   "cell_type": "code",
   "execution_count": 78,
   "id": "7f5bda28",
   "metadata": {
    "execution": {
     "iopub.execute_input": "2022-11-22T14:52:40.960565Z",
     "iopub.status.busy": "2022-11-22T14:52:40.960096Z",
     "iopub.status.idle": "2022-11-22T14:52:40.974967Z",
     "shell.execute_reply": "2022-11-22T14:52:40.973146Z"
    },
    "papermill": {
     "duration": 0.030953,
     "end_time": "2022-11-22T14:52:40.977561",
     "exception": false,
     "start_time": "2022-11-22T14:52:40.946608",
     "status": "completed"
    },
    "tags": []
   },
   "outputs": [
    {
     "name": "stdout",
     "output_type": "stream",
     "text": [
      "<--------- Score K-Nearest Neighbour --------->\n",
      "\n",
      "Accuracy \t: 0.8888888888888888 \n",
      "\n",
      "Precision \t: 0.8839779005524862 \n",
      "\n",
      "Recall \t\t: 0.8913649025069638 \n",
      "\n",
      "F1 \t\t: 0.8876560332871013\n"
     ]
    }
   ],
   "source": [
    "from sklearn.metrics import f1_score\n",
    "from sklearn.metrics import accuracy_score\n",
    "from sklearn.metrics import precision_score\n",
    "from sklearn.metrics import recall_score\n",
    "\n",
    "# Accuracy, Precision, Recall, F1\n",
    "\n",
    "print('<--------- Score K-Nearest Neighbour --------->\\n')\n",
    "\n",
    "acc_score = accuracy_score(test_y ,KNN_Predictions)\n",
    "print('Accuracy \\t:',acc_score,'\\n')\n",
    "\n",
    "prec_score = precision_score(test_y ,KNN_Predictions)\n",
    "print('Precision \\t:',prec_score,'\\n')\n",
    "\n",
    "rec_score = recall_score(test_y ,KNN_Predictions)\n",
    "print('Recall \\t\\t:',rec_score,'\\n')\n",
    "\n",
    "fscore = f1_score(test_y ,KNN_Predictions)\n",
    "print('F1 \\t\\t:',fscore)"
   ]
  },
  {
   "cell_type": "code",
   "execution_count": 79,
   "id": "9d0c2d28",
   "metadata": {
    "execution": {
     "iopub.execute_input": "2022-11-22T14:52:41.003270Z",
     "iopub.status.busy": "2022-11-22T14:52:41.002854Z",
     "iopub.status.idle": "2022-11-22T14:52:41.013884Z",
     "shell.execute_reply": "2022-11-22T14:52:41.012255Z"
    },
    "id": "PLGPbf-YoLeH",
    "outputId": "6baa84c9-f837-49bd-d863-3c963b3eb455",
    "papermill": {
     "duration": 0.028383,
     "end_time": "2022-11-22T14:52:41.017851",
     "exception": false,
     "start_time": "2022-11-22T14:52:40.989468",
     "status": "completed"
    },
    "tags": []
   },
   "outputs": [
    {
     "name": "stdout",
     "output_type": "stream",
     "text": [
      "<------- Confusion matrix ------->\n",
      " [[320  39]\n",
      " [ 42 328]]\n"
     ]
    }
   ],
   "source": [
    "from sklearn.metrics import confusion_matrix\n",
    "from sklearn.metrics import classification_report\n",
    "\n",
    "matrix = confusion_matrix(test_y, KNN_Predictions,labels=[1,0])\n",
    "print('<------- Confusion matrix ------->\\n', matrix)"
   ]
  },
  {
   "cell_type": "code",
   "execution_count": 80,
   "id": "8f439fd4",
   "metadata": {
    "execution": {
     "iopub.execute_input": "2022-11-22T14:52:41.044655Z",
     "iopub.status.busy": "2022-11-22T14:52:41.043841Z",
     "iopub.status.idle": "2022-11-22T14:52:41.052860Z",
     "shell.execute_reply": "2022-11-22T14:52:41.051263Z"
    },
    "id": "fICGVLV2oeSb",
    "outputId": "1ed7ed11-41ce-4bc7-d310-d22d8b7e1f6e",
    "papermill": {
     "duration": 0.025339,
     "end_time": "2022-11-22T14:52:41.055767",
     "exception": false,
     "start_time": "2022-11-22T14:52:41.030428",
     "status": "completed"
    },
    "tags": []
   },
   "outputs": [
    {
     "name": "stdout",
     "output_type": "stream",
     "text": [
      "<-------- Outcome values -------->\n",
      " True Positive (TP) \t: 320 \n",
      " False Negative (FN) \t: 39 \n",
      " False Positive (FP) \t: 42 \n",
      " True Negative (TN) \t: 328\n"
     ]
    }
   ],
   "source": [
    "tp, fn, fp, tn = confusion_matrix(test_y, KNN_Predictions,labels=[1,0]).reshape(-1)\n",
    "print(f'<-------- Outcome values -------->\\n True Positive (TP) \\t: {tp} \\n False Negative (FN) \\t: {fn} \\n False Positive (FP) \\t: {fp} \\n True Negative (TN) \\t: {tn}')"
   ]
  },
  {
   "cell_type": "code",
   "execution_count": 81,
   "id": "e889e201",
   "metadata": {
    "execution": {
     "iopub.execute_input": "2022-11-22T14:52:41.081871Z",
     "iopub.status.busy": "2022-11-22T14:52:41.081442Z",
     "iopub.status.idle": "2022-11-22T14:52:41.093332Z",
     "shell.execute_reply": "2022-11-22T14:52:41.092013Z"
    },
    "id": "Oh7K7tD0ol41",
    "outputId": "344f3c75-7bb8-4d9a-f8a5-511a0fa6d23a",
    "papermill": {
     "duration": 0.028401,
     "end_time": "2022-11-22T14:52:41.096332",
     "exception": false,
     "start_time": "2022-11-22T14:52:41.067931",
     "status": "completed"
    },
    "tags": []
   },
   "outputs": [
    {
     "name": "stdout",
     "output_type": "stream",
     "text": [
      "<--------------- Classification report --------------->\n",
      "               precision    recall  f1-score   support\n",
      "\n",
      "           1       0.88      0.89      0.89       359\n",
      "           0       0.89      0.89      0.89       370\n",
      "\n",
      "    accuracy                           0.89       729\n",
      "   macro avg       0.89      0.89      0.89       729\n",
      "weighted avg       0.89      0.89      0.89       729\n",
      "\n"
     ]
    }
   ],
   "source": [
    "matrix = classification_report(test_y, KNN_Predictions,labels=[1,0])\n",
    "print('<--------------- Classification report --------------->\\n', matrix)"
   ]
  },
  {
   "cell_type": "markdown",
   "id": "0fc5b3bb",
   "metadata": {
    "papermill": {
     "duration": 0.01168,
     "end_time": "2022-11-22T14:52:41.120199",
     "exception": false,
     "start_time": "2022-11-22T14:52:41.108519",
     "status": "completed"
    },
    "tags": []
   },
   "source": [
    "### 2. Random Forest"
   ]
  },
  {
   "cell_type": "code",
   "execution_count": 82,
   "id": "0fd4520c",
   "metadata": {
    "execution": {
     "iopub.execute_input": "2022-11-22T14:52:41.146549Z",
     "iopub.status.busy": "2022-11-22T14:52:41.146048Z",
     "iopub.status.idle": "2022-11-22T14:52:41.160478Z",
     "shell.execute_reply": "2022-11-22T14:52:41.158762Z"
    },
    "papermill": {
     "duration": 0.030945,
     "end_time": "2022-11-22T14:52:41.163318",
     "exception": false,
     "start_time": "2022-11-22T14:52:41.132373",
     "status": "completed"
    },
    "tags": []
   },
   "outputs": [
    {
     "name": "stdout",
     "output_type": "stream",
     "text": [
      "<--------- Score Random Forest Model --------->\n",
      "\n",
      "Accuracy \t: 0.9039780521262003 \n",
      "\n",
      "Precision \t: 0.8958904109589041 \n",
      "\n",
      "Recall \t\t: 0.9108635097493036 \n",
      "\n",
      "F1 \t\t: 0.9033149171270718\n"
     ]
    }
   ],
   "source": [
    "#Accuracy, Precision, Recall, F1\n",
    "\n",
    "print('<--------- Score Random Forest Model --------->\\n')\n",
    "\n",
    "acc_score = accuracy_score(test_y ,RF_predictions)\n",
    "print('Accuracy \\t:',acc_score,'\\n')\n",
    "\n",
    "prec_score = precision_score(test_y ,RF_predictions)\n",
    "print('Precision \\t:',prec_score,'\\n')\n",
    "\n",
    "rec_score = recall_score(test_y ,RF_predictions)\n",
    "print('Recall \\t\\t:',rec_score,'\\n')\n",
    "\n",
    "fscore = f1_score(test_y ,RF_predictions)\n",
    "print('F1 \\t\\t:',fscore)"
   ]
  },
  {
   "cell_type": "code",
   "execution_count": 83,
   "id": "9ddcf644",
   "metadata": {
    "execution": {
     "iopub.execute_input": "2022-11-22T14:52:41.191164Z",
     "iopub.status.busy": "2022-11-22T14:52:41.190048Z",
     "iopub.status.idle": "2022-11-22T14:52:41.199445Z",
     "shell.execute_reply": "2022-11-22T14:52:41.198240Z"
    },
    "papermill": {
     "duration": 0.026552,
     "end_time": "2022-11-22T14:52:41.202324",
     "exception": false,
     "start_time": "2022-11-22T14:52:41.175772",
     "status": "completed"
    },
    "tags": []
   },
   "outputs": [
    {
     "name": "stdout",
     "output_type": "stream",
     "text": [
      "<-------- Outcome values -------->\n",
      " True Positive (TP) \t: 327 \n",
      " False Negative (FN) \t: 32 \n",
      " False Positive (FP) \t: 38 \n",
      " True Negative (TN) \t: 332\n"
     ]
    }
   ],
   "source": [
    "tp, fn, fp, tn = confusion_matrix(test_y, RF_predictions,labels=[1,0]).reshape(-1)\n",
    "print(f'<-------- Outcome values -------->\\n True Positive (TP) \\t: {tp} \\n False Negative (FN) \\t: {fn} \\n False Positive (FP) \\t: {fp} \\n True Negative (TN) \\t: {tn}')"
   ]
  },
  {
   "cell_type": "code",
   "execution_count": 84,
   "id": "bc41ff7b",
   "metadata": {
    "execution": {
     "iopub.execute_input": "2022-11-22T14:52:41.230093Z",
     "iopub.status.busy": "2022-11-22T14:52:41.228920Z",
     "iopub.status.idle": "2022-11-22T14:52:41.240474Z",
     "shell.execute_reply": "2022-11-22T14:52:41.238086Z"
    },
    "papermill": {
     "duration": 0.028606,
     "end_time": "2022-11-22T14:52:41.243698",
     "exception": false,
     "start_time": "2022-11-22T14:52:41.215092",
     "status": "completed"
    },
    "tags": []
   },
   "outputs": [
    {
     "name": "stdout",
     "output_type": "stream",
     "text": [
      "<------- Confusion matrix ------->\n",
      " [[327  32]\n",
      " [ 38 332]]\n"
     ]
    }
   ],
   "source": [
    "rf_matrix = confusion_matrix(test_y, RF_predictions,labels=[1,0])\n",
    "print('<------- Confusion matrix ------->\\n', rf_matrix)"
   ]
  },
  {
   "cell_type": "code",
   "execution_count": 85,
   "id": "bf837e00",
   "metadata": {
    "execution": {
     "iopub.execute_input": "2022-11-22T14:52:41.272081Z",
     "iopub.status.busy": "2022-11-22T14:52:41.271106Z",
     "iopub.status.idle": "2022-11-22T14:52:41.284022Z",
     "shell.execute_reply": "2022-11-22T14:52:41.282406Z"
    },
    "papermill": {
     "duration": 0.03075,
     "end_time": "2022-11-22T14:52:41.287724",
     "exception": false,
     "start_time": "2022-11-22T14:52:41.256974",
     "status": "completed"
    },
    "tags": []
   },
   "outputs": [
    {
     "name": "stdout",
     "output_type": "stream",
     "text": [
      "<--------------- Classification report --------------->\n",
      "               precision    recall  f1-score   support\n",
      "\n",
      "           1       0.90      0.91      0.90       359\n",
      "           0       0.91      0.90      0.90       370\n",
      "\n",
      "    accuracy                           0.90       729\n",
      "   macro avg       0.90      0.90      0.90       729\n",
      "weighted avg       0.90      0.90      0.90       729\n",
      "\n"
     ]
    }
   ],
   "source": [
    "rf_matrix = classification_report(test_y, RF_predictions,labels=[1,0])\n",
    "print('<--------------- Classification report --------------->\\n', rf_matrix)"
   ]
  },
  {
   "cell_type": "code",
   "execution_count": 86,
   "id": "49e12739",
   "metadata": {
    "execution": {
     "iopub.execute_input": "2022-11-22T14:52:41.316878Z",
     "iopub.status.busy": "2022-11-22T14:52:41.315667Z",
     "iopub.status.idle": "2022-11-22T14:52:41.584498Z",
     "shell.execute_reply": "2022-11-22T14:52:41.583221Z"
    },
    "id": "h2pO6NXlosse",
    "outputId": "abc614ab-dcbf-4042-b624-59b73f9939c6",
    "papermill": {
     "duration": 0.285775,
     "end_time": "2022-11-22T14:52:41.586978",
     "exception": false,
     "start_time": "2022-11-22T14:52:41.301203",
     "status": "completed"
    },
    "tags": []
   },
   "outputs": [
    {
     "data": {
      "image/png": "[encoded data removed]",
      "text/plain": [
       "<Figure size 640x480 with 2 Axes>"
      ]
     },
     "metadata": {},
     "output_type": "display_data"
    }
   ],
   "source": [
    "import matplotlib.pyplot as plt\n",
    "from sklearn import metrics\n",
    "\n",
    "confusion_matrix = metrics.confusion_matrix(test_y, KNN_Predictions)\n",
    "\n",
    "cm_display = metrics.ConfusionMatrixDisplay(confusion_matrix = confusion_matrix, display_labels = [False, True])\n",
    "\n",
    "cm_display.plot()\n",
    "plt.show()"
   ]
  },
  {
   "cell_type": "markdown",
   "id": "45217d87",
   "metadata": {
    "id": "thgtBfpzeyWN",
    "papermill": {
     "duration": 0.012199,
     "end_time": "2022-11-22T14:52:41.612304",
     "exception": false,
     "start_time": "2022-11-22T14:52:41.600105",
     "status": "completed"
    },
    "tags": []
   },
   "source": [
    "# Visualization"
   ]
  },
  {
   "cell_type": "markdown",
   "id": "c194fa6a",
   "metadata": {
    "papermill": {
     "duration": 0.012493,
     "end_time": "2022-11-22T14:52:41.663522",
     "exception": false,
     "start_time": "2022-11-22T14:52:41.651029",
     "status": "completed"
    },
    "tags": []
   },
   "source": [
    "### 1. K-Nearest Neighbors"
   ]
  },
  {
   "cell_type": "code",
   "execution_count": 87,
   "id": "0eb81651",
   "metadata": {
    "execution": {
     "iopub.execute_input": "2022-11-22T14:52:41.690902Z",
     "iopub.status.busy": "2022-11-22T14:52:41.690496Z",
     "iopub.status.idle": "2022-11-22T14:52:42.119007Z",
     "shell.execute_reply": "2022-11-22T14:52:42.118041Z"
    },
    "id": "mVAIye-cZR9g",
    "outputId": "6d84c50f-1214-4a36-bb60-1b08fe2419af",
    "papermill": {
     "duration": 0.44612,
     "end_time": "2022-11-22T14:52:42.122463",
     "exception": false,
     "start_time": "2022-11-22T14:52:41.676343",
     "status": "completed"
    },
    "tags": []
   },
   "outputs": [
    {
     "name": "stderr",
     "output_type": "stream",
     "text": [
      "C:\\Users\\pagu2\\AppData\\Local\\Temp\\ipykernel_4492\\900867947.py:14: UserWarning: *c* argument looks like a single numeric RGB or RGBA sequence, which should be avoided as value-mapping will have precedence in case its length matches with *x* & *y*.  Please use the *color* keyword-argument or provide a 2D array with a single row if you intend to specify the same RGB or RGBA value for all points.\n",
      "  plt.scatter(x_set[y_set_one_dimension == j, 0], x_set[y_set_one_dimension == j, 1],\n"
     ]
    },
    {
     "data": {
      "image/png": "[encoded data removed]",
      "text/plain": [
       "<Figure size 640x480 with 1 Axes>"
      ]
     },
     "metadata": {},
     "output_type": "display_data"
    }
   ],
   "source": [
    "from matplotlib.axes._axes import _log as matplotlib_axes_logger\n",
    "matplotlib_axes_logger.setLevel('ERROR')\n",
    "\n",
    "from matplotlib.colors import ListedColormap\n",
    "x_set, y_set = test_x, test_y\n",
    "y_set_one_dimension = y_set\n",
    "\n",
    "x1,x2 = np.meshgrid(np.arange(start = x_set[:,0].min()-1, stop = x_set[:,0].max()+1, step = 0.1),\n",
    "                    np.arange(start = x_set[:,1].min()-1, stop = x_set[:,1].max()+1, step = 0.1))\n",
    "plt.contourf(x1,x2, KNN.predict(np.array([x1.ravel(), x2.ravel()]).T).reshape(x1.shape),\n",
    "            alpha = 0.5, cmap = ListedColormap(('red','blue')))\n",
    "\n",
    "for i, j in enumerate (np.unique(y_set)):\n",
    "  plt.scatter(x_set[y_set_one_dimension == j, 0], x_set[y_set_one_dimension == j, 1],\n",
    "              c = ListedColormap(('red','blue'))(i), label = j)\n",
    "plt.title('Stellar Classification')\n",
    "plt.xlabel('B-V')\n",
    "plt.ylabel('SpType')\n",
    "plt.legend()\n",
    "plt.show()"
   ]
  },
  {
   "cell_type": "markdown",
   "id": "6421616b",
   "metadata": {
    "papermill": {
     "duration": 0.013245,
     "end_time": "2022-11-22T14:52:42.149835",
     "exception": false,
     "start_time": "2022-11-22T14:52:42.136590",
     "status": "completed"
    },
    "tags": []
   },
   "source": [
    "### 2. Random Forest"
   ]
  },
  {
   "cell_type": "code",
   "execution_count": 88,
   "id": "9fab0653",
   "metadata": {
    "execution": {
     "iopub.execute_input": "2022-11-22T14:52:42.180617Z",
     "iopub.status.busy": "2022-11-22T14:52:42.179261Z",
     "iopub.status.idle": "2022-11-22T14:52:42.489306Z",
     "shell.execute_reply": "2022-11-22T14:52:42.488082Z"
    },
    "papermill": {
     "duration": 0.328059,
     "end_time": "2022-11-22T14:52:42.491919",
     "exception": false,
     "start_time": "2022-11-22T14:52:42.163860",
     "status": "completed"
    },
    "tags": []
   },
   "outputs": [
    {
     "name": "stderr",
     "output_type": "stream",
     "text": [
      "C:\\Users\\pagu2\\AppData\\Local\\Temp\\ipykernel_4492\\416100564.py:14: UserWarning: *c* argument looks like a single numeric RGB or RGBA sequence, which should be avoided as value-mapping will have precedence in case its length matches with *x* & *y*.  Please use the *color* keyword-argument or provide a 2D array with a single row if you intend to specify the same RGB or RGBA value for all points.\n",
      "  plt.scatter(x_set[y_set_one_dimension == j, 0], x_set[y_set_one_dimension == j, 1],\n"
     ]
    },
    {
     "data": {
      "image/png": "[encoded data removed]",
      "text/plain": [
       "<Figure size 640x480 with 1 Axes>"
      ]
     },
     "metadata": {},
     "output_type": "display_data"
    }
   ],
   "source": [
    "from matplotlib.axes._axes import _log as matplotlib_axes_logger\n",
    "matplotlib_axes_logger.setLevel('ERROR')\n",
    "\n",
    "from matplotlib.colors import ListedColormap\n",
    "x_set, y_set = test_x, test_y\n",
    "y_set_one_dimension = y_set\n",
    "\n",
    "x1,x2 = np.meshgrid(np.arange(start = x_set[:,0].min()-1, stop = x_set[:,0].max()+1, step = 0.1),\n",
    "                    np.arange(start = x_set[:,1].min()-1, stop = x_set[:,1].max()+1, step = 0.1))\n",
    "plt.contourf(x1,x2, RF_model.predict(np.array([x1.ravel(), x2.ravel()]).T).reshape(x1.shape),\n",
    "            alpha = 0.5, cmap = ListedColormap(('red','blue')))\n",
    "\n",
    "for i, j in enumerate (np.unique(y_set)):\n",
    "  plt.scatter(x_set[y_set_one_dimension == j, 0], x_set[y_set_one_dimension == j, 1],\n",
    "              c = ListedColormap(('red','blue'))(i), label = j)\n",
    "plt.title('Stellar Classification')\n",
    "plt.xlabel('B-V')\n",
    "plt.ylabel('SpType')\n",
    "plt.legend()\n",
    "plt.show()"
   ]
  },
  {
   "cell_type": "code",
   "execution_count": 89,
   "id": "f1ed29bd",
   "metadata": {},
   "outputs": [],
   "source": [
    "# Import style 1 (Without Alias)\n",
    "import pickle\n",
    "\n",
    "# Import style 2 (With Alias)\n",
    "import pickle as pk"
   ]
  },
  {
   "cell_type": "code",
   "execution_count": 90,
   "id": "76d424e9",
   "metadata": {},
   "outputs": [],
   "source": [
    "with open(\"desired-model-file-name.pkl\", \"wb\") as file: # file is a variable for storing the newly created file, it can be anything.\n",
    "    pickle.dump(RF_model, file) # Dump function is us"
   ]
  },
  {
   "cell_type": "code",
   "execution_count": 91,
   "id": "a4701bfd",
   "metadata": {},
   "outputs": [],
   "source": [
    "pickle.dump(RF_model, open(\"desired-model-file-name.pkl\", \"wb\"))"
   ]
  },
  {
   "cell_type": "code",
   "execution_count": 93,
   "id": "4431ff6b",
   "metadata": {},
   "outputs": [
    {
     "name": "stdout",
     "output_type": "stream",
     "text": [
      "it is a dwarf star \n"
     ]
    }
   ],
   "source": [
    "# Open saved model using 2nd method\n",
    "model_mtd2 = pickle.load(open(\"desired-model-file-name.pkl\", \"rb\"))\n",
    "\n",
    "# Now, to make use of the model as you normally would\n",
    "\n",
    "result = model_mtd2.predict([[0.20,12.47]])\n",
    "if result[0]==1:\n",
    "    print(\"It is a dwarf star \")\n",
    "elif result[0]==0:\n",
    "    print(\"It is giant star\")\n",
    "else:\n",
    "    print(\"nil\")    "
   ]
  },
  {
   "cell_type": "code",
   "execution_count": null,
   "id": "71367ca5",
   "metadata": {},
   "outputs": [],
   "source": []
  },
  {
   "cell_type": "code",
   "execution_count": null,
   "id": "7bb114d7",
   "metadata": {},
   "outputs": [],
   "source": []
  },
  {
   "cell_type": "code",
   "execution_count": null,
   "id": "a396d0cd",
   "metadata": {},
   "outputs": [],
   "source": []
  },
  {
   "cell_type": "code",
   "execution_count": null,
   "id": "5290ca6f",
   "metadata": {},
   "outputs": [],
   "source": []
  }
 ],
 "metadata": {
  "kernelspec": {
   "display_name": "Python 3",
   "language": "python",
   "name": "python3"
  },
  "language_info": {
   "codemirror_mode": {
    "name": "ipython",
    "version": 3
   },
   "file_extension": ".py",
   "mimetype": "text/x-python",
   "name": "python",
   "nbconvert_exporter": "python",
   "pygments_lexer": "ipython3",
   "version": "3.11.2"
  },
  "papermill": {
   "default_parameters": {},
   "duration": 14.915336,
   "end_time": "2022-11-22T14:52:43.327696",
   "environment_variables": {},
   "exception": null,
   "input_path": "__notebook__.ipynb",
   "output_path": "__notebook__.ipynb",
   "parameters": {},
   "start_time": "2022-11-22T14:52:28.412360",
   "version": "2.3.4"
  },
  "vscode": {
   "interpreter": {
    "hash": "147c3bc6fc00590e58d3e3ef7b83ae10ae7abb113a3e5d9de85582d13b73ba37"
   }
  }
 },
 "nbformat": 4,
 "nbformat_minor": 5
}
